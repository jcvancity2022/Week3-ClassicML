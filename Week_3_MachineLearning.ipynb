{
  "cells": [
    {
      "cell_type": "markdown",
      "metadata": {
        "id": "view-in-github",
        "colab_type": "text"
      },
      "source": [
        "<a href=\"https://colab.research.google.com/github/jcvancity2022/Week3-ClassicML/blob/myBranch/Week_3_MachineLearning.ipynb\" target=\"_parent\"><img src=\"https://colab.research.google.com/assets/colab-badge.svg\" alt=\"Open In Colab\"/></a>"
      ]
    },
    {
      "cell_type": "code",
      "execution_count": 1,
      "metadata": {
        "colab": {
          "base_uri": "https://localhost:8080/"
        },
        "id": "ywb8NifF9XN3",
        "outputId": "9973ac22-acab-4d94-d8f2-b42c68280483"
      },
      "outputs": [
        {
          "output_type": "stream",
          "name": "stdout",
          "text": [
            "Drive already mounted at /content/drive; to attempt to forcibly remount, call drive.mount(\"/content/drive\", force_remount=True).\n"
          ]
        }
      ],
      "source": [
        "from google.colab import drive\n",
        "drive.mount('/content/drive')"
      ]
    },
    {
      "cell_type": "markdown",
      "metadata": {
        "id": "q5CvOjjrL9gw"
      },
      "source": [
        "<center><h1> Introduction to Audio Classification with Machine Learning Models </h1></center>\n",
        "\n",
        "\n",
        "\n",
        "### Purpose\n",
        "This notebook serves as an introduction to working with audio data for classification problems; it is meant as a learning resource rather than a demonstration of the state-of-the-art. The techniques mentioned in this notebook apply not only to classification problems, but to regression problems and problems dealing with other types of input data as well. I provide an introduction to a few key machine learning models and the logic in choosing their hyperparameters. These objectives are framed by the task of recognizing emotion from snippets of speech audio.\n",
        "\n",
        " Training data should be used strictly for training a model, validation data strictly for tuning a model, and test data strictly to evaluate a model once it is tuned - a model should never be tuned to perform better on test data.\n",
        "\n",
        "\n",
        "\n",
        "\n",
        "\n",
        "Classic machine learning models such as Support Vector Machines (SVM), k Nearest Neighbours (kNN), and Random Forests have distinct advantages to deep neural networks in many tasks."
      ]
    },
    {
      "cell_type": "markdown",
      "metadata": {
        "id": "QQsTfGREL9g1"
      },
      "source": [
        "<!--TABLE OF CONTENTS-->\n",
        "\n",
        "\n",
        "# Table of Contents\n",
        "  - [Intro: Speech Emotion Recognition on the RAVDESS dataset](#Intro:-Speech-Emotion-Recognition-on-the-RAVDESS-dataset)\n",
        "  - [Machine Learning Process Overview](#Machine-Learning-Process-Overview)\n",
        "  - [Feature Extraction](#Feature-Extraction)\n",
        "    - [Load the Dataset and Compute Features](#Load-the-Dataset-and-Compute-Features)\n",
        "    - [Feature Scaling](#Feature-Scaling)\n",
        "  - [Classical Machine Learning Models](#Classical-Machine-Learning-Models)\n",
        "    - [Training: The 80/20 Split and Validation](#Training:-The-80/20-Split-and-Validation)\n",
        "    - [Comparing Models](#Comparing-Models)\n",
        "    - [The Support Vector Machine Classifier](#The-Support-Vector-Machine-Classifier)\n",
        "    - [k Nearest Neighbours](#k-Nearest-Neighbours)\n",
        "    - [Random Forests](#Random-Forests)\n",
        "\n"
      ]
    },
    {
      "cell_type": "markdown",
      "metadata": {
        "id": "hZUcbr4PL9g2"
      },
      "source": [
        "## Intro: Speech Emotion Recognition on the RAVDESS dataset\n",
        "In this notebook we explore the most common machine learning models, specifically those available off the shelf in scikit-learn.\n",
        "\n",
        "I'm going to use the RAVDESS dataset (Ryerson Audio-Visual Database of Emotional Speech and Song dataset), created by Steven Livingstone and Frank Russo of Ryerson University. <br>\n",
        "[Details of the RAVDESS dataset](https://smartlaboratory.org/ravdess/) <br>\n",
        "[Download the dataset used in this notebook](https://zenodo.org/record/1188976) <br> Scroll half-way down the page and find \"Audio_Speech_Actors_01-24\"<br>\n",
        "\n",
        "We're going to use the audio-only speech portion of the RAVDESS dataset, ~200MB.\n",
        "Audio is sourced from 24 actors (12 male, 12 female) repeating two sentences with\n",
        "a variety of emotions and intensity. We get 1440 speech files (24 actors * 60 recordings per actor). Each audio sample has been rated  by a human 10 times for emotional quality.\n",
        "\n",
        "## Machine Learning Process Overview\n",
        "1. Feature Engineering: Choose and define the properties which our model will use to evaluate the audio files. <br>\n",
        "2. Feature Extraction: Compute the features for each audio file and build a feature matrix representing all audio files. <br>\n",
        "3. Model exploration: Test candidate models that make sense for the properies of the dataset\n",
        "4. Training the MLP Classifier model: Choose and optimize the properties of our model on validation data - hyperparameters and architechture.  <br>\n",
        "5. Evaluate our model's performance: Evaluate our model's accuracy on validation data and score it against test data which it has never seen in training.<br>\n",
        "6. Explore options for improving our model: Is our dataset the right size? Is our model too complex or too simple? <br>\n"
      ]
    },
    {
      "cell_type": "code",
      "execution_count": 2,
      "metadata": {
        "id": "b2IL0uT19_3A"
      },
      "outputs": [],
      "source": [
        "#importing the required libraries\n",
        "\n",
        "import matplotlib.pyplot as plt\n",
        "import pandas as pd\n",
        "import numpy as np\n",
        "import librosa.display\n",
        "import soundfile\n",
        "import os\n",
        "# matplotlib complains about the behaviour of librosa.display, so we'll ignore those warnings:\n",
        "import warnings; warnings.filterwarnings('ignore')"
      ]
    },
    {
      "cell_type": "markdown",
      "metadata": {
        "id": "eu8VPhDmL9hC"
      },
      "source": [
        "## Feature Extraction\n",
        "We're going to take full advantage of librosa, a Python library enabling audio analysis and feature extraction.\n",
        "Librosa abstracts away all the math and most of the details of mel spectrorgams, chromagrams, and MFCC.\n",
        "Although closely related, we're going to take the Mel Spectrogram, MFCC, and chromagrams of each audio file as separate features to try\n",
        "and have bit more discriminatory power between samples. <br>\n",
        "\n",
        "Let's build our feature extraction functions to get a chromagram, a mel spectorgram, and MFC coefficients for each of our audio files. Because the chromagram, mel spectrogram and MFCCs are calculated on audio frames produced by STFT, we're going to get a matrix back from each function, so we'll take the mean of those matrices to produce a single feature array for each feature and each audio sample, i.e. 3 feature arrays per audio sample.\n",
        "\n",
        "**Chromagram**: Will produce 12 features; One for each of 12 pitch classes\n",
        "\n",
        "**Mel Spectrogram**: Will produce 128 features; We've defined the number of mel frequency bands at n_mels=128\n",
        "\n",
        "**MFCC**: Will produce 40 MFCCs; I've set the number of coefficients to return at n_mfcc=40 which I found to work well"
      ]
    },
    {
      "cell_type": "code",
      "execution_count": 3,
      "metadata": {
        "id": "qTe93WYTL9hD"
      },
      "outputs": [],
      "source": [
        "\n",
        "\n",
        "def feature_chromagram(waveform, sample_rate):\n",
        "    # STFT computed here explicitly; mel spectrogram and MFCC functions do this under the hood\n",
        "    stft_spectrogram=np.abs(librosa.stft(waveform))\n",
        "    # Produce the chromagram for all STFT frames and get the mean of each column of the resulting matrix to create a feature array\n",
        "    chromagram=np.mean(librosa.feature.chroma_stft(S=stft_spectrogram, sr=sample_rate).T,axis=0)\n",
        "    return chromagram\n",
        "\n",
        "def feature_melspectrogram(waveform, sample_rate):\n",
        "    # Produce the mel spectrogram for all STFT frames and get the mean of each column of the resulting matrix to create a feature array\n",
        "    # Using 8khz as upper frequency bound should be enough for most speech classification tasks\n",
        "    melspectrogram=np.mean(librosa.feature.melspectrogram(y=waveform, sr=sample_rate, n_mels=128, fmax=8000).T,axis=0)\n",
        "    return melspectrogram\n",
        "\n",
        "def feature_mfcc(waveform, sample_rate):\n",
        "    # Compute the MFCCs for all STFT frames and get the mean of each column of the resulting matrix to create a feature array\n",
        "    # 40 filterbanks = 40 coefficients\n",
        "    mfc_coefficients=np.mean(librosa.feature.mfcc(y=waveform, sr=sample_rate, n_mfcc=40).T, axis=0)\n",
        "    return mfc_coefficients"
      ]
    },
    {
      "cell_type": "markdown",
      "metadata": {
        "id": "xjFXIfC2L9hD"
      },
      "source": [
        "We're going to wrap our feature extraction functions so we only have to load each audio file once. After extracting our 3 audio features as NumPy arrays representing a time series, we're going to\n",
        "stack them horizontally to create a single feature array."
      ]
    },
    {
      "cell_type": "code",
      "execution_count": 4,
      "metadata": {
        "id": "f-UK-s6Rhl1F"
      },
      "outputs": [],
      "source": [
        "def preprocess_waveform(waveform):\n",
        "    # If the waveform has 2 channels (stereo), convert it to mono\n",
        "    if len(waveform.shape) > 1:\n",
        "        waveform = librosa.to_mono(waveform)\n",
        "    return waveform"
      ]
    },
    {
      "cell_type": "code",
      "execution_count": 5,
      "metadata": {
        "id": "xPMw9ijJL9hE"
      },
      "outputs": [],
      "source": [
        "def get_features(file):\n",
        "    # load an individual soundfile\n",
        "     with soundfile.SoundFile(file) as audio:\n",
        "        waveform = audio.read(dtype=\"float32\")\n",
        "        sample_rate = audio.samplerate\n",
        "        # make sure the file is mono channel audio\n",
        "        waveform = preprocess_waveform(waveform)\n",
        "        # compute features of soundfile\n",
        "        chromagram = feature_chromagram(waveform, sample_rate)\n",
        "        melspectrogram = feature_melspectrogram(waveform, sample_rate)\n",
        "        mfc_coefficients = feature_mfcc(waveform, sample_rate)\n",
        "\n",
        "        feature_matrix=np.array([])\n",
        "\n",
        "        # Check the shape of chromagram\n",
        "        if chromagram.ndim > 1 and chromagram.shape[1] > 1:\n",
        "            #print(f\"Returning zero vector for chromagram size: {file} (shape: {chromagram.shape})\")\n",
        "            chromagram = np.zeros((12,))  # Return a zero vector of size (12,)\n",
        "\n",
        "        # Check the shape of mel spectrogram\n",
        "        if melspectrogram.ndim > 1 and melspectrogram.shape[1] > 1:\n",
        "            #print(f\"Returning zero vector for mel spectrogram size: {file} (shape: {melspectrogram.shape})\")\n",
        "            melspectrogram = np.zeros((128,))  # Return a zero vector of size (128,)\n",
        "\n",
        "        # Check the shape of MFCC coefficients\n",
        "        if mfc_coefficients.ndim > 1 and mfc_coefficients.shape[1] > 1:\n",
        "            #print(f\"Returning zero vector for MFCC size: {file} (shape: {mfc_coefficients.shape})\")\n",
        "            mfc_coefficients = np.zeros((40,))  # Return a zero vector of size (40,)\n",
        "\n",
        "        # use np.hstack to stack our feature arrays horizontally to create a feature matrix\n",
        "        feature_matrix = np.hstack((chromagram, melspectrogram, mfc_coefficients))\n",
        "\n",
        "        return feature_matrix"
      ]
    },
    {
      "cell_type": "markdown",
      "metadata": {
        "id": "c-C6g6psL9hE"
      },
      "source": [
        "### Load the Dataset and Compute Features\n",
        "We have to understand the labelling of the RAVDESS dataset to find the ground truth emotion for each sample.\n",
        "Each file is labelled with 7 numbers delimited by a \"-\".\n",
        "Most of the numbers describe metadata about the audio samples such as their format (video and/or audio),\n",
        "whether the audio is a song or statement, which of two statements is being read and by which actor.\n",
        "\n",
        "The third and fourth numbers pertain to the emotional quality of each sample. The third number is in the range of 1-8 with each number representing an emotion.\n",
        "The fourth number is either 1 or 2, representing normal (1) or strong (2) emotional intensity.\n",
        "\n",
        "We're going to define a dictionary based on the third number (emotion) and assign an emotion to each number as specified by the RAVDESS dataset:"
      ]
    },
    {
      "cell_type": "code",
      "execution_count": 6,
      "metadata": {
        "id": "z-Pu_fB7L9hF"
      },
      "outputs": [],
      "source": [
        "#Emotions in the RAVDESS dataset\n",
        "emotions_dict ={\n",
        "  '01':'neutral',\n",
        "  '02':'calm',\n",
        "  '03':'happy',\n",
        "  '04':'sad',\n",
        "  '05':'angry',\n",
        "  '06':'fearful',\n",
        "  '07':'disgust',\n",
        "  '08':'surprised'\n",
        "}"
      ]
    },
    {
      "cell_type": "markdown",
      "metadata": {
        "id": "pTlsUOwXL9hF"
      },
      "source": [
        "Finally, let's load our entire dataset and compute the features of each audio file:"
      ]
    },
    {
      "cell_type": "code",
      "execution_count": 7,
      "metadata": {
        "id": "mAh2AYMpL9hF"
      },
      "outputs": [],
      "source": [
        "import os, glob\n",
        "\n",
        "def load_data():\n",
        "    x,y=[],[]\n",
        "    # Collect all wav files into a DataFrame for easy filtering\n",
        "    all_files = glob.glob(\"/content/drive/MyDrive/Audio Data/*/*.wav\")\n",
        "    df = pd.DataFrame(all_files, columns=[\"/content/drive/MyDrive/Audio Data/*/*.wav\"])\n",
        "\n",
        "    # Drop Actor_99 files\n",
        "    dfr = df[~df[\"/content/drive/MyDrive/Audio Data/*/*.wav\"].str.contains(\"Actor_99\")].reset_index(drop=True)\n",
        "\n",
        "    total = len(df)\n",
        "\n",
        "    for count, file in enumerate(dfr[\"/content/drive/MyDrive/Audio Data/*/*.wav\"], 1):\n",
        "        file_name = os.path.basename(file)\n",
        "\n",
        "        # Extract emotion label\n",
        "        emotion = emotions_dict[file_name.split(\"-\")[2]]\n",
        "\n",
        "        # Extract features\n",
        "        features = get_features(file)\n",
        "        x.append(features)\n",
        "        y.append(emotion)\n",
        "\n",
        "        print('\\r' + f'Processed {count}/{total} audio samples', end=' ')\n",
        "\n",
        "    return np.array(x), np.array(y)"
      ]
    },
    {
      "cell_type": "code",
      "execution_count": 8,
      "metadata": {
        "id": "2FEEDiYSiNO7"
      },
      "outputs": [],
      "source": [
        "import os, glob\n",
        "import numpy as np\n",
        "import pandas as pd\n",
        "\n",
        "def load_data1():\n",
        "    x, y = [], []\n",
        "\n",
        "    # Collect only Actor_99 files\n",
        "    all_files = glob.glob(\"/content/drive/MyDrive/Audio Data/*/*.wav\")\n",
        "    df = pd.DataFrame({\"filepath\": all_files})   # ✅ safe column name\n",
        "\n",
        "    total = len(df)  # total across ALL actors\n",
        "    count = 0        # will count only Actor_99\n",
        "\n",
        "    for file in df[\"filepath\"]:\n",
        "        file_name = os.path.basename(file)\n",
        "        actor_folder = os.path.basename(os.path.dirname(file))\n",
        "\n",
        "        # Only process Actor_99 files\n",
        "        if actor_folder != \"Actor_99\":\n",
        "            continue\n",
        "\n",
        "        # Extract emotion label\n",
        "        emotion = emotions_dict[file_name.split(\"-\")[2]]\n",
        "\n",
        "        # Extract features\n",
        "        features = get_features(file)\n",
        "        x.append(features)\n",
        "        y.append(emotion)\n",
        "\n",
        "        count += 1\n",
        "        print('\\r' + f'Processed {count}/{total} audio samples', end=' ')\n",
        "\n",
        "    return np.array(x), np.array(y)"
      ]
    },
    {
      "cell_type": "markdown",
      "metadata": {
        "id": "3Cf8q4K5L9hG"
      },
      "source": [
        "Compute the feature matrix and read the emotion labels for the entire dataset.\n",
        "Note that our regressor (independent/explanatory variable), usually denoted X, is named 'features', and our regressand (dependent variable), usually denoted y, is named 'emotions'."
      ]
    },
    {
      "cell_type": "code",
      "execution_count": 9,
      "metadata": {
        "id": "XeKE591aL9hG",
        "colab": {
          "base_uri": "https://localhost:8080/"
        },
        "outputId": "e8e32196-9173-4d1a-d131-4c2c19bbcf9c"
      },
      "outputs": [
        {
          "output_type": "stream",
          "name": "stdout",
          "text": [
            "Processed 1439/1447 audio samples "
          ]
        }
      ],
      "source": [
        "features, emotions = load_data()"
      ]
    },
    {
      "cell_type": "code",
      "execution_count": 10,
      "metadata": {
        "id": "bFQ6cbgjvClN",
        "colab": {
          "base_uri": "https://localhost:8080/"
        },
        "outputId": "8ed0e842-cc33-4b1a-d39b-4781ffd60718"
      },
      "outputs": [
        {
          "output_type": "stream",
          "name": "stdout",
          "text": [
            "\rProcessed 1/1447 audio samples \rProcessed 2/1447 audio samples \rProcessed 3/1447 audio samples \rProcessed 4/1447 audio samples \rProcessed 5/1447 audio samples \rProcessed 6/1447 audio samples \rProcessed 7/1447 audio samples \rProcessed 8/1447 audio samples "
          ]
        }
      ],
      "source": [
        "features1, emotions1 = load_data1()"
      ]
    },
    {
      "cell_type": "markdown",
      "metadata": {
        "id": "RVUa7RAuL9hG"
      },
      "source": [
        "Let's see what the features we extracted look like, **also for saving both the features matrix as well as emotions array, we need to convert them to pandas dataframe.**"
      ]
    },
    {
      "cell_type": "code",
      "execution_count": null,
      "metadata": {
        "id": "mzxX583yL9hG"
      },
      "outputs": [],
      "source": [
        "import os, glob\n",
        "import pandas as pd\n",
        "import numpy as np\n",
        "\n",
        "features = []\n",
        "emotions = []\n",
        "\n",
        "# Loop through ALL wav files\n",
        "for file in glob.glob(\"/content/drive/MyDrive/Audio Data/*/*.wav\"):\n",
        "    file_name = os.path.basename(file)\n",
        "\n",
        "    # Skip Actor_99 if needed\n",
        "    if \"Actor_99\" in file:\n",
        "        continue\n",
        "\n",
        "    # Get emotion label\n",
        "    emotion = emotions_dict[file_name.split(\"-\")[2]]\n",
        "\n",
        "    # Extract features\n",
        "    feature_vector = get_features(file)\n",
        "\n",
        "    # Append one row per file\n",
        "    features.append(feature_vector)\n",
        "    emotions.append(emotion)\n",
        "\n",
        "# Convert to numpy arrays for shape info\n",
        "features = np.array(features)\n",
        "emotions = np.array(emotions)\n",
        "\n",
        "print(f\"\\nAudio samples represented: {features.shape[0]}\")\n",
        "print(f\"Numerical features extracted per sample: {features.shape[1]}\")\n",
        "\n",
        "# Convert to DataFrames for saving/plotting\n",
        "features_df = pd.DataFrame(features)\n",
        "emotions_df = pd.DataFrame(emotions, columns=[\"emotion\"])\n",
        "\n",
        "features_df.head()"
      ]
    },
    {
      "cell_type": "markdown",
      "metadata": {
        "id": "Tq083zLEL9hH"
      },
      "source": [
        "We have a matrix of dim 1435 x 180. Looks good - 1435 audio samples, one per row, with a series of\n",
        "180 numerical features for each sample.\n",
        "\n",
        "**Each of the 1435 feature arrays has 180 features composed of 12 chromagram pitch classes + 128 mel spectrogram bands + 40 MFC coefficients.**"
      ]
    },
    {
      "cell_type": "markdown",
      "metadata": {
        "id": "VF2SggHTDqbQ"
      },
      "source": [
        "Now we will save our features matrix and emotions array in excel file we dont have to compute them everytime we run the notebook, we can just load them from the excel file whenever required. Make sure to change the path to according to your drive."
      ]
    },
    {
      "cell_type": "code",
      "execution_count": null,
      "metadata": {
        "id": "xmagMCeBl3NK"
      },
      "outputs": [],
      "source": [
        "print(f'\\nAudio samples represented: {features1.shape[0]}')\n",
        "print(f'Numerical features extracted per sample: {features1.shape[1]}')\n",
        "features_df1 = pd.DataFrame(features1) # make it pretty for display\n",
        "\n",
        "\n",
        "#making dataframe for emotions as well\n",
        "emotions_df1 = pd.DataFrame(emotions1) # make it pretty for display\n",
        "\n",
        "features_df1"
      ]
    },
    {
      "cell_type": "code",
      "execution_count": null,
      "metadata": {
        "id": "u6H8hc6gDtbp"
      },
      "outputs": [],
      "source": [
        "\n"
      ]
    },
    {
      "cell_type": "code",
      "source": [
        "# save my own actor 99\n",
        "# I Actually saved the wrong data supposed to save actor 99 voices\n",
        "features_df.to_csv('RAVDESSfeaturesRavdess.csv')\n",
        "emotions_df.to_csv('RAVDESSemotionsRavdess.csv')"
      ],
      "metadata": {
        "id": "_qvWplNUSOh8"
      },
      "execution_count": null,
      "outputs": []
    },
    {
      "cell_type": "code",
      "execution_count": null,
      "metadata": {
        "id": "AZdFmefSiB1T"
      },
      "outputs": [],
      "source": [
        "# save my own actor 99\n",
        "# I Actually saved the wrong data supposed to save actor 99 voices\n",
        "features_df1.to_csv('MEfeaturesRavdess.csv')\n",
        "emotions_df1.to_csv('MEemotionsRavdess.csv')\n",
        "\n"
      ]
    },
    {
      "cell_type": "code",
      "source": [
        "features_ravdess = pd.read_csv(\"RAVDESSfeaturesRavdess.csv\")\n",
        "emotions_ravdess = pd.read_csv(\"RAVDESSemotionsRavdess.csv\")\n",
        "\n",
        "print(features_ravdess.shape)\n",
        "print(emotions_ravdess.shape)"
      ],
      "metadata": {
        "id": "nPPS-36SbkAt"
      },
      "execution_count": null,
      "outputs": []
    },
    {
      "cell_type": "markdown",
      "metadata": {
        "id": "VpE5m-5aEyoB"
      },
      "source": [
        "## Load pre-saved Dataset"
      ]
    },
    {
      "cell_type": "markdown",
      "metadata": {
        "id": "hHPB7dCqEotR"
      },
      "source": [
        "Once saved you only need to load them later by running the cell below, and **skip every cell above** except for the one in which we import libraries."
      ]
    },
    {
      "cell_type": "code",
      "execution_count": null,
      "metadata": {
        "id": "-8nlJCESEn56"
      },
      "outputs": [],
      "source": [
        "features=pd.read_csv('RAVDESSfeaturesRavdess.csv',index_col=0)\n",
        "emotions=pd.read_csv('RAVDESSemotionsRavdess.csv',index_col=0)"
      ]
    },
    {
      "cell_type": "markdown",
      "metadata": {
        "id": "4x2dXjybD1NM"
      },
      "source": [
        "let's see if they have been loaded correctly!"
      ]
    },
    {
      "cell_type": "code",
      "execution_count": null,
      "metadata": {
        "id": "B5Xo1SVMD0qR"
      },
      "outputs": [],
      "source": [
        "features.head()"
      ]
    },
    {
      "cell_type": "code",
      "execution_count": null,
      "metadata": {
        "id": "W_DiMFFIjfxW"
      },
      "outputs": [],
      "source": [
        "features1=pd.read_csv('MEfeaturesRavdess.csv',index_col=0)\n",
        "emotions1=pd.read_csv('MEemotionsRavdess.csv',index_col=0)"
      ]
    },
    {
      "cell_type": "code",
      "execution_count": null,
      "metadata": {
        "id": "Ab-2BS53jk-U"
      },
      "outputs": [],
      "source": [
        "features1.head()"
      ]
    },
    {
      "cell_type": "markdown",
      "metadata": {
        "id": "esInVDq7L9hT"
      },
      "source": [
        "Let's see the class balance of our dataset:"
      ]
    },
    {
      "cell_type": "code",
      "execution_count": null,
      "metadata": {
        "id": "Si3OFQe7L9hU"
      },
      "outputs": [],
      "source": [
        "import pandas as pd\n",
        "import matplotlib.pyplot as plt\n",
        "import numpy as np\n",
        "from collections import Counter\n",
        "\n",
        "# Reload datasets with unique names\n",
        "features_ravdess = pd.read_csv('RAVDESSfeaturesRavdess.csv', index_col=0)\n",
        "emotions_ravdess = pd.read_csv('RAVDESSemotionsRavdess.csv', index_col=0)\n",
        "\n",
        "features_me = pd.read_csv('MEfeaturesRavdess.csv', index_col=0)\n",
        "emotions_me = pd.read_csv('MEemotionsRavdess.csv', index_col=0)\n",
        "\n",
        "# Convert emotion DataFrames to flat Python lists\n",
        "emotions_ravdess = emotions_ravdess.iloc[:, 0].tolist()\n",
        "emotions_me = emotions_me.iloc[:, 0].tolist()\n",
        "\n",
        "# Count samples\n",
        "ravdess_counts = Counter(emotions_ravdess)\n",
        "me_counts = Counter(emotions_me)\n",
        "\n",
        "# Print info\n",
        "print(\"RAVDESS samples:\", len(emotions_ravdess))\n",
        "print(\"Actor_99 samples:\", len(emotions_me))\n",
        "print(\"RAVDESS class counts:\", ravdess_counts)\n",
        "print(\"Actor_99 class counts:\", me_counts)\n",
        "\n",
        "# --- Plot class balance ---\n",
        "plt.figure(figsize=(14,5))\n",
        "\n",
        "# RAVDESS\n",
        "plt.subplot(1,2,1)\n",
        "plt.bar(ravdess_counts.keys(), ravdess_counts.values())\n",
        "plt.xlabel('Emotion')\n",
        "plt.ylabel('Samples')\n",
        "plt.title('RAVDESS Dataset')\n",
        "\n",
        "# Actor_99\n",
        "plt.subplot(1,2,2)\n",
        "plt.bar(me_counts.keys(), me_counts.values(), color=\"orange\")\n",
        "plt.xlabel('Emotion')\n",
        "plt.ylabel('Samples')\n",
        "plt.title('Actor_99 Dataset')\n",
        "\n",
        "plt.show()"
      ]
    },
    {
      "cell_type": "markdown",
      "metadata": {
        "id": "Mw_wKC8WL9hV"
      },
      "source": [
        "**Great, the classes appear to be balanced. That makes the task easier.** All emotions _except_ the neutral class have a \"strong\" intensity so there are half as many neutral samples. That might have an impact."
      ]
    },
    {
      "cell_type": "markdown",
      "metadata": {
        "id": "WhtlYshOL9hV"
      },
      "source": [
        "### Feature Scaling\n",
        "To properly train most machine learning models on _most_ datasets, we first need to scale our features. **This is crucial for models which compute distances between data, and especially critical for DNNs**: If there is a difference in the variance of features simply because of their possible range of values, then a model will learn that the features with the greatest variance are the most important. However, **differences in the variance of unscaled features belonging to different and unknown distributions is an inappropriate measure of importance.** Let's check our features' properties:"
      ]
    },
    {
      "cell_type": "code",
      "execution_count": null,
      "metadata": {
        "id": "_IUm1DLwL9hW"
      },
      "outputs": [],
      "source": [
        "# We would usually use df.describe(), but it provides a bit of a mess of information we don't need at the moment.\n",
        "def print_features(df):\n",
        "    # Feature 1 (first column only)\n",
        "    feature1 = df.iloc[:, 0]\n",
        "    f1_min = feature1.min()\n",
        "    f1_max = feature1.max()\n",
        "    f1_mean = feature1.mean()\n",
        "    f1_stdev = feature1.std()\n",
        "    print(f'Feature 1 (e.g., Zero Crossing Rate / RMS): \\\n",
        "    min = {f1_min:.3f}, \\\n",
        "    max = {f1_max:.3f}, \\\n",
        "    mean = {f1_mean:.3f}, \\\n",
        "    deviation = {f1_stdev:.3f}')\n",
        "\n",
        "    # Chromagram (first 12 features, 0–11)\n",
        "    features_df_chromagram = df.iloc[:, :12]\n",
        "    chroma_min = features_df_chromagram.min().min()\n",
        "    chroma_max = features_df_chromagram.max().max()\n",
        "    chroma_mean = features_df_chromagram.stack().mean()\n",
        "    chroma_stdev = features_df_chromagram.stack().std()\n",
        "    print(f'12 Chromagram features:       \\\n",
        "    min = {chroma_min:.3f}, \\\n",
        "    max = {chroma_max:.3f}, \\\n",
        "    mean = {chroma_mean:.3f}, \\\n",
        "    deviation = {chroma_stdev:.3f}')\n",
        "\n",
        "    # Mel spectrogram (next 128 features, 12–139)\n",
        "    features_df_melspectrogram = df.iloc[:, 12:140]\n",
        "    mel_min = features_df_melspectrogram.min().min()\n",
        "    mel_max = features_df_melspectrogram.max().max()\n",
        "    mel_mean = features_df_melspectrogram.stack().mean()\n",
        "    mel_stdev = features_df_melspectrogram.stack().std()\n",
        "    print(f'\\n128 Mel Spectrogram features: \\\n",
        "    min = {mel_min:.3f}, \\\n",
        "    max = {mel_max:.3f}, \\\n",
        "    mean = {mel_mean:.3f}, \\\n",
        "    deviation = {mel_stdev:.3f}')\n",
        "\n",
        "    # MFCC (last 40 features, 140–179)\n",
        "    features_df_mfcc = df.iloc[:, 140:180]\n",
        "    mfcc_min = features_df_mfcc.min().min()\n",
        "    mfcc_max = features_df_mfcc.max().max()\n",
        "    mfcc_mean = features_df_mfcc.stack().mean()\n",
        "    mfcc_stdev = features_df_mfcc.stack().std()\n",
        "    print(f'\\n40 MFCC features:             \\\n",
        "    min = {mfcc_min:.3f},\\\n",
        "    max = {mfcc_max:.3f},\\\n",
        "    mean = {mfcc_mean:.3f},\\\n",
        "    deviation = {mfcc_stdev:.3f}')\n",
        "\n",
        "# Run it\n",
        "print_features(features_df)"
      ]
    },
    {
      "cell_type": "markdown",
      "metadata": {
        "id": "gFgQlYSlL9hW"
      },
      "source": [
        "**There's an obvious imbalance in the variance our features; Our features indeed belong to very different distributions:** our MFC coefficients' deviation is greater than the other features by orders of magnitude. That does not mean MFC coefficients are the most important feature, but rather it is a property of the way they are computed.  We will certainly need to scale this feature set.\n",
        "\n",
        "We have the choice of sklearn's StandardScaler and MinMaxScaler. Standard scaling subtracts the mean of each feature and divides it by the standard deviation of that feature, producing features with mean at zero and unit variance - that is, a variance and standard deviation of 1. Min-Max scaling transforms each feature to be within a bounded interval that we specify.\n",
        "\n",
        "In practice, **MinMax scaling is especially useful when we know our features should be in a bounded interval**, such as pixel values in [0,255], while **standard scaling is perhaps more practical for features with unknown distributions** because centering the features at zero-mean with a standard deviation of 1 means extreme values will have less of an impact on the model's learned weights, i.e. the model is less sensitive to outliers.\n",
        "\n",
        "We'll create MinMax scaled features as well so we can give them a try later on to confirm that standard scaling is better in the absence of knowledge on the appropriate distribution for a dataset's features."
      ]
    },
    {
      "cell_type": "code",
      "execution_count": null,
      "metadata": {
        "id": "_BCAYVEUL9hW"
      },
      "outputs": [],
      "source": [
        "from sklearn.preprocessing import StandardScaler\n",
        "from sklearn.preprocessing import MinMaxScaler\n",
        "\n",
        "# --- Standard Scaling ---\n",
        "scaler_std = StandardScaler()\n",
        "\n",
        "features_df = pd.read_csv(\"RAVDESSfeaturesRavdess.csv\")     # RAVDESS dataset\n",
        "features1_df = pd.read_csv(\"MEfeaturesRavdess.csv\")   # Your Actor_99 dataset\n",
        "\n",
        "features_scaled = scaler_std.fit_transform(features_df)\n",
        "features_scaled_df = pd.DataFrame(features_scaled, columns=features_df.columns)\n",
        "\n",
        "features1_scaled = scaler_std.fit_transform(features1_df)\n",
        "features1_scaled_df = pd.DataFrame(features1_scaled, columns=features1_df.columns)\n",
        "\n",
        "print('\\033[1m' + 'Standard Scaling (features_df):\\n' + '\\033[0m')\n",
        "print_features(features_scaled_df)\n",
        "\n",
        "print('\\n\\033[1m' + 'Standard Scaling 1 (features1_df):\\n' + '\\033[0m')\n",
        "print_features(features1_scaled_df)\n",
        "\n",
        "# --- MinMax Scaling ---\n",
        "scaler_mm = MinMaxScaler()\n",
        "\n",
        "features_minmax = scaler_mm.fit_transform(features_df)\n",
        "features_minmax_df = pd.DataFrame(features_minmax, columns=features_df.columns)\n",
        "\n",
        "features1_minmax = scaler_mm.fit_transform(features1_df)\n",
        "features1_minmax_df = pd.DataFrame(features1_minmax, columns=features1_df.columns)\n",
        "\n",
        "print('\\n\\n\\033[1m' + 'MinMax Scaling (features_df):\\n' + '\\033[0m')\n",
        "print_features(features_minmax_df)\n",
        "\n",
        "print('\\n\\033[1m' + 'MinMax Scaling 1 (features1_df):\\n' + '\\033[0m')\n",
        "print_features(features1_minmax_df)\n"
      ]
    },
    {
      "cell_type": "markdown",
      "metadata": {
        "id": "r4ATx5oNL9hX"
      },
      "source": [
        "Make sure our features are properly scaled:"
      ]
    },
    {
      "cell_type": "code",
      "execution_count": null,
      "metadata": {
        "id": "mlRuHQkKL9hX"
      },
      "outputs": [],
      "source": [
        "print('\\033[1m'+'Standard Scaling:\\n'+'\\033[0m')\n",
        "features_scaled_df = pd.DataFrame(features_scaled)\n",
        "print_features(features_scaled_df)\n",
        "\n",
        "# MinMax Scaling\n",
        "scaler_mm = MinMaxScaler()\n",
        "features_minmax = scaler_mm.fit_transform(features)\n",
        "\n",
        "print('\\n\\n\\033[1m'+'MinMax Scaling:\\n'+'\\033[0m')\n",
        "features_minmax_df = pd.DataFrame(features_minmax)\n",
        "print_features(features_minmax_df)"
      ]
    },
    {
      "cell_type": "markdown",
      "metadata": {
        "id": "vZfzIh7DL9hX"
      },
      "source": [
        "Perfect. Zero mean and unit variance for standard scaling and in the range [0,1] for MinMax scaling - a default when we don't specify values. We can now move on to building predictive models for these features."
      ]
    },
    {
      "cell_type": "markdown",
      "metadata": {
        "id": "z5tXewLEL9hX"
      },
      "source": [
        "## Classical Machine Learning Models\n",
        "\n",
        "\n",
        "Classical machine learning models encompass a broad range of algorithms that have been foundational to the field's development and are still widely used for various predictive tasks. These models can be broadly categorized into supervised and unsupervised learning methods, each suited for different kinds of data and objectives.\n",
        "\n",
        "We will be looking into few popular Machine Learning Algorithms such as Support Vector Machine(SVM), K-Nearest Neighbors and Random Forest Classifier. There are many other classical models with their own strengths and weaknesses, and the choice of model depends on the specific requirements of the task, including the nature of the data, the complexity of the problem, and the computational efficiency required. Despite the rise of deep learning, classical machine learning models remain vital tools in a data scientist's arsenal due to their efficiency, interpretability, and strong performance in many scenarios.\n",
        "\n",
        "The use of classic machine learning method is due to the small size of our dataset; Some of the most robust models such as Support vector (machine) classifiers **(SVC) and k-Nearest-Neighbour classifiers (kNN) are particularly suited to smaller datasets and fall apart with huge datasets.**\n"
      ]
    },
    {
      "cell_type": "markdown",
      "metadata": {
        "id": "jwU-jXSGL9hY"
      },
      "source": [
        "### Training: The 80/20 Split and Validation\n",
        "In order to compare models, we'll have to evaluate their performance. The simplest method to do so is to train a model on a portion of our dataset and test it on the remainder. We'll use sklearn's train_test_split to create a standard 80/20 train/test split. The model is fit on 80% of\n",
        "the data and tested for performance against 20% of the data, which it has never seen in training - also called the hold-out set.\n",
        " <img src=\"https://github.com/IAT-ExploringAI-2024/Week3-Machine_Learning/blob/main/images/Capture2.PNG?raw=true\" width=\"800\">\n",
        "\n",
        "More accurately, the proper modality for training and scoring a model is to\n",
        "1. Fit/train our model on a _training_ set,\n",
        "2. Evaluate the model on a _validation_ set to tune the hyperparameters for better performance,\n",
        "3. Finally score our model's true performance - its **generalizability** - against a _test_ set, aka the hold-out set.\n",
        "4. Repeat from 2. **Do not tune the model to score well on the test set**. Only evaluate on test-set once.\n",
        "\n",
        "Different set ratios are used in this approach - a usual example is 60/20/20 train/validation/test.For simplicity, we're going to start with an 80/20 train/test split. The model will be trained on all the training data, and we will check its performance on the test data. We'll skip validation for now.\n",
        "\n",
        " <img src=\"https://github.com/IAT-ExploringAI-2024/Week3-ClassicML/blob/main/images/traintestsplit.PNG?raw=true\" width=\"800\">\n",
        "\n",
        "Define unscaled and scaled training and test sets:"
      ]
    },
    {
      "cell_type": "code",
      "execution_count": null,
      "metadata": {
        "id": "8jGN4ROVL9hY"
      },
      "outputs": [],
      "source": [
        "from sklearn.model_selection import train_test_split\n",
        "from sklearn.preprocessing import StandardScaler, MinMaxScaler\n",
        "\n",
        "# --- 1. Prepare data ---\n",
        "X = features.values   # features as numpy array\n",
        "y = emotions.values.ravel()   # labels as 1D array\n",
        "\n",
        "# --- 2. Single train/test split (80/20, stratified) ---\n",
        "X_train, X_test, y_train, y_test = train_test_split(\n",
        "    X, y,\n",
        "    test_size=0.2,\n",
        "    stratify=y,\n",
        "    random_state=42\n",
        ")\n",
        "\n",
        "# --- 3. Unscaled ---\n",
        "X_train_unscaled, X_test_unscaled = X_train.copy(), X_test.copy()\n",
        "\n",
        "# --- 4. Standard Scaler ---\n",
        "scaler_std = StandardScaler()\n",
        "X_train_std = scaler_std.fit_transform(X_train)\n",
        "X_test_std  = scaler_std.transform(X_test)\n",
        "\n",
        "# --- 5. MinMax Scaler ---\n",
        "scaler_mm = MinMaxScaler()\n",
        "X_train_mm = scaler_mm.fit_transform(X_train)\n",
        "X_test_mm  = scaler_mm.transform(X_test)\n",
        "\n",
        "# --- 6. Confirm shapes ---\n",
        "print(\"Shapes:\")\n",
        "print(\"Unscaled:\", X_train_unscaled.shape, X_test_unscaled.shape)\n",
        "print(\"Standard Scaled:\", X_train_std.shape, X_test_std.shape)\n",
        "print(\"MinMax Scaled:\", X_train_mm.shape, X_test_mm.shape)\n"
      ]
    },
    {
      "cell_type": "code",
      "source": [],
      "metadata": {
        "id": "v4eCc8HYQ_hc"
      },
      "execution_count": null,
      "outputs": []
    },
    {
      "cell_type": "markdown",
      "metadata": {
        "id": "Q3Mh0RrEL9hY"
      },
      "source": [
        "### Comparing Models\n",
        "We'll try each off-the-shelf machine learning model from sklearn and pick a few to explore, since these models will train near instantly on this dataset."
      ]
    },
    {
      "cell_type": "code",
      "execution_count": null,
      "metadata": {
        "id": "iLPeyR7vL9he",
        "scrolled": true
      },
      "outputs": [],
      "source": [
        "from sklearn.neighbors import KNeighborsClassifier\n",
        "from sklearn.svm import SVC\n",
        "from sklearn.tree import DecisionTreeClassifier\n",
        "from sklearn.ensemble import RandomForestClassifier, AdaBoostClassifier\n",
        "from sklearn.naive_bayes import GaussianNB\n",
        "from sklearn.discriminant_analysis import QuadraticDiscriminantAnalysis\n",
        "from sklearn.model_selection import train_test_split\n",
        "from sklearn.preprocessing import StandardScaler, MinMaxScaler\n",
        "import pandas as pd\n",
        "\n",
        "# --- 1. Use RAVDESS dataset ---\n",
        "X = features_df.iloc[:, :-1]   # all columns except last\n",
        "y = features_df.iloc[:, -1]    # last column = labels\n",
        "\n",
        "# --- 2. Train/test split ---\n",
        "X_train, X_test, y_train, y_test = train_test_split(\n",
        "    X, y, test_size=0.2, stratify=y, random_state=42\n",
        ")\n",
        "\n",
        "# --- 3. Scaling versions ---\n",
        "X_train_unscaled, X_test_unscaled = X_train.copy(), X_test.copy()\n",
        "\n",
        "scaler_std = StandardScaler()\n",
        "X_train_scaled = scaler_std.fit_transform(X_train)\n",
        "X_test_scaled  = scaler_std.transform(X_test)\n",
        "\n",
        "scaler_mm = MinMaxScaler()\n",
        "X_train_minmax = scaler_mm.fit_transform(X_train)\n",
        "X_test_minmax  = scaler_mm.transform(X_test)\n",
        "\n",
        "# --- 4. Define classifiers ---\n",
        "classification_models = [\n",
        "    KNeighborsClassifier(),\n",
        "    SVC(kernel='linear'),\n",
        "    SVC(kernel='rbf'),\n",
        "    DecisionTreeClassifier(),\n",
        "    RandomForestClassifier(),\n",
        "    AdaBoostClassifier(),\n",
        "    GaussianNB(),\n",
        "    QuadraticDiscriminantAnalysis()\n",
        "]\n",
        "\n",
        "# --- 5. Evaluation function ---\n",
        "def evaluate_models(X_train, X_test, y_train, y_test, models):\n",
        "    results = []\n",
        "    for model in models:\n",
        "        model.fit(X_train, y_train)\n",
        "        score = model.score(X_test, y_test)\n",
        "        model_name = type(model).__name__\n",
        "        if model_name == 'SVC' and model.kernel == 'rbf':\n",
        "            model_name += ' RBF kernel'\n",
        "        elif model_name == 'SVC' and model.kernel == 'linear':\n",
        "            model_name += ' Linear kernel'\n",
        "        results.append((model_name, f\"{100*score:.2f}%\"))\n",
        "    return pd.DataFrame(results, columns=['Classifier', 'Accuracy Score'])\n",
        "\n",
        "# --- 6. Run evaluations ---\n",
        "scores_unscaled = evaluate_models(X_train_unscaled, X_test_unscaled, y_train, y_test, classification_models)\n",
        "scores_standard = evaluate_models(X_train_scaled, X_test_scaled, y_train, y_test, classification_models)\n",
        "scores_minmax   = evaluate_models(X_train_minmax, X_test_minmax, y_train, y_test, classification_models)\n",
        "\n",
        "print(\"=== Unscaled Features ===\")\n",
        "display(scores_unscaled.sort_values(by=\"Accuracy Score\", ascending=False))\n",
        "\n",
        "print(\"\\n=== Standard Scaled Features ===\")\n",
        "display(scores_standard.sort_values(by=\"Accuracy Score\", ascending=False))\n",
        "\n",
        "print(\"\\n=== MinMax Scaled Features ===\")\n",
        "display(scores_minmax.sort_values(by=\"Accuracy Score\", ascending=False))\n"
      ]
    },
    {
      "cell_type": "markdown",
      "metadata": {
        "id": "Y1RCY9V3uMWm"
      },
      "source": [
        "# Three parts of change"
      ]
    },
    {
      "cell_type": "code",
      "execution_count": null,
      "metadata": {
        "id": "bdvAWklakpUv"
      },
      "outputs": [],
      "source": [
        "# Helper: filter results for only the top 3 classifiers (with clean names)\n",
        "def filter_top_models(df):\n",
        "    return df[df['Classifier'].isin([\n",
        "        'RandomForestClassifier',\n",
        "        'KNeighborsClassifier',\n",
        "        'SVC RBF kernel',\n",
        "        'SVC Linear kernel'\n",
        "    ])]\n",
        "\n",
        "# Unscaled\n",
        "scores_unscaled = evaluate_models(X_train, X_test, y_train, y_test, classification_models)\n",
        "scores_unscaled_top = filter_top_models(scores_unscaled)\n",
        "\n",
        "# Standard Scaled\n",
        "scores_standard = evaluate_models(X_train_scaled, X_test_scaled, y_train, y_test, classification_models)\n",
        "scores_standard_top = filter_top_models(scores_standard)\n",
        "\n",
        "# MinMax Scaled\n",
        "scores_minmax = evaluate_models(X_train_minmax, X_test_minmax, y_train, y_test, classification_models)\n",
        "scores_minmax_top = filter_top_models(scores_minmax)\n",
        "\n",
        "# Print nicely\n",
        "print(\"=== Unscaled Features (Top 3 Models) ===\")\n",
        "display(scores_unscaled_top.set_index(\"Classifier\").reindex([\n",
        "    \"SVC Linear kernel\", \"SVC RBF kernel\", \"KNeighborsClassifier\", \"RandomForestClassifier\"\n",
        "]))\n",
        "\n",
        "print(\"\\n=== Standard Scaled Features (Top 3 Models) ===\")\n",
        "display(scores_standard_top.set_index(\"Classifier\").reindex([\n",
        "    \"SVC Linear kernel\", \"SVC RBF kernel\", \"KNeighborsClassifier\", \"RandomForestClassifier\"\n",
        "]))\n",
        "\n",
        "print(\"\\n=== MinMax Scaled Features (Top 3 Models) ===\")\n",
        "display(scores_minmax_top.set_index(\"Classifier\").reindex([\n",
        "    \"SVC Linear kernel\", \"SVC RBF kernel\", \"KNeighborsClassifier\", \"RandomForestClassifier\"\n",
        "]))\n"
      ]
    },
    {
      "cell_type": "markdown",
      "metadata": {
        "id": "JrD98CpPL9he"
      },
      "source": [
        "Let's pick the top three - Random Forests, SVC, and kNN - and take a closer look at each of them."
      ]
    },
    {
      "cell_type": "markdown",
      "metadata": {
        "id": "4dBNoEolL9hf"
      },
      "source": [
        "### The Support Vector Machine Classifier\n",
        "\n",
        "We'll go in chronological order. First is the support vector machine classifier (SVC) - a model from the 60s. SVMs are models quick to train for this task and best suited to small datasets due to its quadratic time complexity w.r.t. size of the training dataset (# of training samples). This is also the reason it breaks down with larger datasets since it becomes very expensive to train.\n",
        "\n",
        "The idea behind SVMs on which the SVC model is based is to find a separating hyperplane - a subspace with dimension one less than that of the feature space - for points in our feature space; i.e. for a 3D space, a hyperplane is a regular plane, in 2D, a line. This idea extends to n dimensions. If points are separable by a hyperplane, they are said to be linearly separable. **Since there are infinite possible separating hyperplanes for any linearly separable feature space, an SVM computes which points are closest to each such hyperplane and uses them to construct a _support vector_. The SVM picks the hyperplane which maximizes the distance - _margin_ - to each support vector.** In this way, we maximize the separating ability of the chosen hyperplane.\n",
        "\n",
        "The core of SVMs is the kernel. We could map all new points from our input space, where they were not separable by a hyperplane, to a higher dimension in which we have found a hyperplane to separate the points in that space. However, that would be extremely computationally expensive for data that needs to be mapped to much higher dimensions. Instead, we **compute the hyperplane in the higher dimension on our training data and map the hyperplane back to the lower-dimension input space to use for classifying our data. This is the _kernel trick_, whereby the kernel (function) enables us to compute distances to new points in the input space without transforming each to the higher dimensional space - drastically reducing the computational complexity of the SVM.**\n",
        "\n",
        " <img src=\"https://github.com/IAT-ExploringAI-2024/Week3-Machine_Learning/blob/main/images/kernel1.png?raw=true\" width=\"800\">"
      ]
    },
    {
      "cell_type": "markdown",
      "metadata": {
        "id": "r-VTE6HjL9hf"
      },
      "source": [
        "A linear kernel should always be tested because **a linear kernel is much faster to train than a non-linear kernel**; however, properly tuned, a non-linear kernel often provides the best possible predictive performance. **RBF (radial basis function) is a good default to use for a non-linear kernel** and often is the best non-linear kernel because it usually provides a higher accuracy compared to other non-linear kernels at the cost of higher computational complexity. We can afford to try the RBF kernel because our dataset is small.\n",
        "\n",
        "If you want to explore further please have a look at [this article](https://www.analyticsvidhya.com/blog/2021/10/support-vector-machinessvm-a-complete-guide-for-beginners/)"
      ]
    },
    {
      "cell_type": "code",
      "execution_count": null,
      "metadata": {
        "id": "ruBbt50ML9hf"
      },
      "outputs": [],
      "source": [
        "from sklearn.svm import SVC\n",
        "\n",
        "model = SVC(\n",
        "    C=10,          # higher = tighter margin\n",
        "    gamma='auto',\n",
        "    kernel='rbf',\n",
        "    random_state=42\n",
        ")\n",
        "\n",
        "model.fit(X_train_scaled, y_train)\n",
        "\n",
        "print(f\"SVC Model's accuracy on training set is {100*model.score(X_train_scaled, y_train):.2f}%\")\n",
        "print(f\"SVC Model's accuracy on test set is {100*model.score(X_test_scaled, y_test):.2f}%\")\n",
        "print(f\"SVC Model's accuracy on Actor_99 recordings is {100*model.score(features1, emotions1):.2f}%\")"
      ]
    },
    {
      "cell_type": "code",
      "execution_count": null,
      "metadata": {
        "id": "s03MKlTO9Dxk"
      },
      "outputs": [],
      "source": [
        "from sklearn.neighbors import KNeighborsClassifier\n",
        "\n",
        "knn = KNeighborsClassifier(n_neighbors=5)\n",
        "knn.fit(X_train_scaled, y_train)\n",
        "\n",
        "print(f\"kNN accuracy on training set: {100*knn.score(X_train_scaled, y_train):.2f}%\")\n",
        "print(f\"kNN accuracy on test set: {100*knn.score(X_test_scaled, y_test):.2f}%\")\n",
        "print(f\"kNN accuracy on Actor_99 recordings: {100*knn.score(features1, emotions1):.2f}%\")"
      ]
    },
    {
      "cell_type": "code",
      "execution_count": null,
      "metadata": {
        "id": "wyeyd_WjRSs3"
      },
      "outputs": [],
      "source": [
        "from sklearn.svm import SVC\n",
        "from sklearn.neighbors import KNeighborsClassifier\n",
        "from sklearn.ensemble import RandomForestClassifier\n",
        "\n",
        "# Train SVC\n",
        "svc = SVC(C=10, gamma='auto', kernel='rbf', random_state=42)\n",
        "svc.fit(X_train_scaled, y_train)\n",
        "\n",
        "print(f\"SVC accuracy on training set: {100*svc.score(X_train_scaled, y_train):.2f}%\")\n",
        "print(f\"SVC accuracy on test set: {100*svc.score(X_test_scaled, y_test):.2f}%\")\n",
        "print(f\"SVC accuracy on Actor_99 recordings: {100*svc.score(features1, emotions1):.2f}%\")\n",
        "\n",
        "# Train kNN\n",
        "knn = KNeighborsClassifier(n_neighbors=5)\n",
        "knn.fit(X_train_scaled, y_train)\n",
        "\n",
        "print(f\"kNN accuracy on training set: {100*knn.score(X_train_scaled, y_train):.2f}%\")\n",
        "print(f\"kNN accuracy on test set: {100*knn.score(X_test_scaled, y_test):.2f}%\")\n",
        "print(f\"kNN accuracy on Actor_99 recordings: {100*knn.score(features1, emotions1):.2f}%\")\n",
        "\n",
        "# Train Random Forest\n",
        "rf = RandomForestClassifier(n_estimators=200, random_state=42)\n",
        "rf.fit(X_train_scaled, y_train)\n",
        "\n",
        "print(f\"RF accuracy on training set: {100*rf.score(X_train_scaled, y_train):.2f}%\")\n",
        "print(f\"RF accuracy on test set: {100*rf.score(X_test_scaled, y_test):.2f}%\")\n",
        "print(f\"RF accuracy on Actor_99 recordings: {100*rf.score(features1, emotions1):.2f}%\")"
      ]
    },
    {
      "cell_type": "code",
      "execution_count": null,
      "metadata": {
        "id": "8lBUSsCfIDFi"
      },
      "outputs": [],
      "source": [
        "\n",
        "# Example results (replace with your actual accuracy outputs)\n",
        "scaling_comparison = pd.DataFrame({\n",
        "    \"Classifier\": [\"SVC\", \"kNN\", \"RandomForest\"],\n",
        "    \"Unscaled\": [\n",
        "        f\"{100*svc.score(X_test, y_test):.2f}%\",          # SVC Unscaled\n",
        "        f\"{100*knn.score(X_test, y_test):.2f}%\",          # kNN Unscaled\n",
        "        f\"{100*rf.score(X_test, y_test):.2f}%\"            # RF Unscaled\n",
        "    ],\n",
        "    \"Standard\": [\n",
        "        f\"{100*svc.score(X_test_scaled, y_test):.2f}%\",   # SVC Standard Scaled\n",
        "        f\"{100*knn.score(X_test_scaled, y_test):.2f}%\",   # kNN Standard Scaled\n",
        "        f\"{100*rf.score(X_test_scaled, y_test):.2f}%\"     # RF Standard Scaled\n",
        "    ],\n",
        "    \"MinMax\": [\n",
        "        f\"{100*svc.score(X_test_minmax, y_test):.2f}%\",   # SVC MinMax\n",
        "        f\"{100*knn.score(X_test_minmax, y_test):.2f}%\",   # kNN MinMax\n",
        "        f\"{100*rf.score(X_test_minmax, y_test):.2f}%\"     # RF MinMax\n",
        "    ]\n",
        "})"
      ]
    },
    {
      "cell_type": "code",
      "execution_count": null,
      "metadata": {
        "id": "6DuZJXAm9XxU"
      },
      "outputs": [],
      "source": [
        "import matplotlib.pyplot as plt\n",
        "\n",
        "scaling_comparison_numeric = scaling_comparison.copy()\n",
        "\n",
        "# Remove \"%\" and convert to float\n",
        "for col in [\"Unscaled\", \"Standard\", \"MinMax\"]:\n",
        "    scaling_comparison_numeric[col] = (\n",
        "        scaling_comparison_numeric[col]\n",
        "        .str.replace(\"%\", \"\", regex=False)\n",
        "        .astype(float)\n",
        "    )\n",
        "\n",
        "# Plot\n",
        "scaling_comparison_numeric.set_index(\"Classifier\").plot(\n",
        "    kind=\"bar\", figsize=(10,6)\n",
        ")\n",
        "plt.title(\"Classifier Accuracy Across Scaling Methods\")\n",
        "plt.ylabel(\"Accuracy (%)\")\n",
        "plt.xticks(rotation=45, ha=\"right\")\n",
        "plt.show()\n"
      ]
    },
    {
      "cell_type": "code",
      "execution_count": null,
      "metadata": {
        "id": "oNEIBhYzSQ5C"
      },
      "outputs": [],
      "source": [
        "cross_dataset = pd.DataFrame({\n",
        "    \"Classifier\": [\"SVC (RBF)\", \"kNN\", \"Random Forest\"],\n",
        "    \"RAVDESS Test\": [\n",
        "        f\"{100*svc.score(X_test_scaled, y_test):.2f}%\",\n",
        "        f\"{100*knn.score(X_test_scaled, y_test):.2f}%\",\n",
        "        f\"{100*rf.score(X_test_scaled, y_test):.2f}%\"\n",
        "    ],\n",
        "    \"Actor_99\": [\n",
        "        f\"{100*svc.score(features1, emotions1):.2f}%\",\n",
        "        f\"{100*knn.score(features1, emotions1):.2f}%\",\n",
        "        f\"{100*rf.score(features1, emotions1):.2f}%\"\n",
        "    ]\n",
        "})\n",
        "display(cross_dataset)"
      ]
    },
    {
      "cell_type": "code",
      "execution_count": null,
      "metadata": {
        "id": "8Jfmat66Stq-"
      },
      "outputs": [],
      "source": [
        "import matplotlib.pyplot as plt\n",
        "\n",
        "# Convert percentage strings to numeric for plotting\n",
        "cross_dataset_numeric = cross_dataset.copy()\n",
        "for col in [\"RAVDESS Test\", \"Actor_99\"]:\n",
        "    cross_dataset_numeric[col] = (\n",
        "        cross_dataset_numeric[col]\n",
        "        .str.replace(\"%\", \"\", regex=False)\n",
        "        .astype(float)\n",
        "    )\n",
        "\n",
        "# Plot grouped bar chart\n",
        "cross_dataset_numeric.set_index(\"Classifier\").plot(\n",
        "    kind=\"bar\", figsize=(8,6)\n",
        ")\n",
        "plt.title(\"Classifier Accuracy: RAVDESS vs Actor_99\")\n",
        "plt.ylabel(\"Accuracy (%)\")\n",
        "plt.xticks(rotation=0)\n",
        "plt.legend(title=\"Dataset\")\n",
        "plt.show()"
      ]
    },
    {
      "cell_type": "markdown",
      "metadata": {
        "id": "PIm1a-tiL9hg"
      },
      "source": [
        "Not bad at all for the relatively simple SVC model. **Hyperparameter 𝐶 regulates the margin.** It might do well to optimize the SVC model further if we don't find a better one. As it stands, we are looking for considerably higher performance in this task.\n",
        "\n",
        "Check out [this link](https://towardsdatascience.com/visualizing-the-effect-of-hyperparameters-on-support-vector-machines-b9eef6f7357b) for visual representation of affect of changes in C and gamma."
      ]
    },
    {
      "cell_type": "markdown",
      "metadata": {
        "id": "j72LJRfCL9hg"
      },
      "source": [
        "### k Nearest Neighbours\n",
        "\n",
        "k Nearest Neighbours (kNN) is next in line, a tried-and-true machine learning method from the 70s. kNN makes a lot of intuitive sense: imagine plotting points on a graph and drawing gates around points that look like they belong to the same group. That's what it is - we **plot our training samples' features and compare a test sample's features' distance to all those points; then just take the _k_ closest points to the test sample and pick the most frequent label/class.** That's it.\n",
        "\n",
        "kNN is a great starting point for multiclass problems with small datasets, although on large dadtasets less reliable and extremely memory hungry (it stores all training sample points). kNN is also useful in that it makes **no assumptions about the underlying distribution of the data set - so kNNs work well for both linear and non-linear data.** In the 2D example:\n",
        "\n",
        "<img src=\"https://github.com/IAT-ExploringAI-2024/Week3-ClassicML/blob/main/images/knn.png?raw=true\" width=400 height=400 />"
      ]
    },
    {
      "cell_type": "code",
      "execution_count": null,
      "metadata": {
        "id": "qaeCneMiL9hg"
      },
      "outputs": [],
      "source": [
        "from sklearn.neighbors import KNeighborsClassifier\n",
        "\n",
        "####### Default kNN  ########\n",
        "model = KNeighborsClassifier(\n",
        ")\n",
        "\n",
        "model.fit(X_train, y_train)\n",
        "\n",
        "print(f'Default kNN Model\\'s accuracy on training set is {100*model.score(X_train, y_train):.2f}%')\n",
        "print(f'Default kNN Model\\'s accuracy on test set is {100*model.score(X_test, y_test):.2f}%\\n')\n",
        "\n",
        "##### (hastily) tuned kNN ######\n",
        "model = KNeighborsClassifier(\n",
        "    n_neighbors = 5,\n",
        "    weights = 'distance',\n",
        "    algorithm = 'brute',\n",
        "    n_jobs=4\n",
        ")\n",
        "\n",
        "model.fit(X_train, y_train)\n",
        "\n",
        "print(f'kNN Model\\'s accuracy on training set is {100*model.score(X_train, y_train):.2f}%')\n",
        "print(f'kNN Model\\'s accuracy on test set is {100*model.score(X_test, y_test):.2f}%')"
      ]
    },
    {
      "cell_type": "markdown",
      "metadata": {
        "id": "BxVEKUyiL9hh"
      },
      "source": [
        "**The brute-force algorithm computes distances between all pairs of points in the training set; works especially well for small datasets** but wildly inefficient w.r.t. increasing samples and feature space dimension. Not bad for 2 minutes of work, but still not suitable for this task."
      ]
    },
    {
      "cell_type": "markdown",
      "metadata": {
        "id": "zvQ3av4cL9hh"
      },
      "source": [
        "### Random Forests\n",
        "Finally, and before resorting to deep learning methods, let's try a Random Forest -  a model from the 21st century (2001). **We train many distinct decision trees which are essentially directed acyclic graphs (DAGs), somewhat similar to a flow chart. The collection of (decision) trees makes up our Random Forest.**\n",
        "\n",
        "At each node of the tree we have a function (a rule) that evaluates whether the features of samples input to that node belong to one class or another. Each branch of the tree (or, edge of the graph) defines one of two possible results from a node, and each leaf is one of two decisions made by its parent node. **Each tree in the forest evaluates a random subset of the training samples' features and has a rule at each level of the tree that classifies based on these random features - hence, _Random_ Forest. This random selection of features makes Random Forests robust to outliers**, as such features will have less of an impact in the scope of the entire forest, most of whose trees operate on the \"real\" features.\n",
        "\n",
        "**Random Forests are excellent models to use as a benchmark due to their low time complexity to train and because it is an ensemble method, their robustness to unknown distributions and outliers in the dataset,** meaning Random Forests require relatively little exploratory analysis in both the data and training the model to get an idea of their performance in a task.\n",
        "\n",
        "<img src=\"https://github.com/IliaZenkov/sklearn-audio-classification/blob/master/img/randomforest.png?raw=true\" width=500 height=500 />"
      ]
    },
    {
      "cell_type": "code",
      "execution_count": null,
      "metadata": {
        "id": "j9BWmcV9L9hh"
      },
      "outputs": [],
      "source": [
        "from sklearn.ensemble import RandomForestClassifier\n",
        "\n",
        "####### Default Random Forest ########\n",
        "model = RandomForestClassifier(\n",
        "    random_state=69\n",
        ")\n",
        "\n",
        "model.fit(X_train, y_train)\n",
        "\n",
        "print(f'Default Random Forest Model\\'s accuracy on training set is {100*model.score(X_train, y_train):.2f}%')\n",
        "print(f'Default Random Forest Model\\'s accuracy on test set is {100*model.score(X_test, y_test):.2f}%\\n')\n",
        "\n",
        "\n",
        "########## Tuned Random Forest #######\n",
        "model = RandomForestClassifier(\n",
        "    n_estimators = 500,\n",
        "    criterion ='entropy',\n",
        "    warm_start = True,\n",
        "    max_features = 'sqrt',\n",
        "    oob_score = True, # more on this below\n",
        "    random_state=42\n",
        ")\n",
        "\n",
        "model.fit(X_train, y_train)\n",
        "\n",
        "print(f'Random Forest Model\\'s accuracy on training set is {100*model.score(X_train, y_train):.2f}%')\n",
        "print(f'Random Forest Model\\'s accuracy on test set is {100*model.score(X_test, y_test):.2f}%')"
      ]
    },
    {
      "cell_type": "markdown",
      "metadata": {
        "id": "vM9-k8KLL9hi"
      },
      "source": [
        "Not bad for zero effort put into the default model. **Random Forests make a good benchmark model**, especially when strapped for time.\n",
        "\n",
        "**_Max features_ defines size of random feature subset decided upon at each node; sqrt(#features) is a good default for classification.**\n",
        "\n",
        "**_Gini_ and _Entropy_ are functions computing quality of classified samples within each node; they almost always provide similar performance but Entropy is more suited to classification while Gini is better for continuous variables.**\n"
      ]
    },
    {
      "cell_type": "markdown",
      "metadata": {
        "id": "DnhnxuGXL9hi"
      },
      "source": [
        "\n",
        "As wonderful as Random Forests are, it's clear that we're going to need to pull out bigger guns if we want to get appreciable performance on this dataset, perhaps even with good generalizability on test data. DNNs(Deep Neural Networks) are the next step-up in complexity from classical machine learning models, and we will start at the first rung on that ladder:Simple Perceptron in next lab!"
      ]
    }
  ],
  "metadata": {
    "colab": {
      "provenance": [],
      "include_colab_link": true
    },
    "kernelspec": {
      "display_name": "PyCharm (Speech Classifier)",
      "language": "python",
      "name": "pycharm-6a34225"
    },
    "language_info": {
      "codemirror_mode": {
        "name": "ipython",
        "version": 3
      },
      "file_extension": ".py",
      "mimetype": "text/x-python",
      "name": "python",
      "nbconvert_exporter": "python",
      "pygments_lexer": "ipython3",
      "version": "3.8.3"
    }
  },
  "nbformat": 4,
  "nbformat_minor": 0
}